{
 "cells": [
  {
   "cell_type": "code",
   "execution_count": null,
   "id": "d8b6e92d",
   "metadata": {},
   "outputs": [],
   "source": [
    "# Armin Panjehpour - 98101288 - Computational Intelligence - HW2 - Q.1"
   ]
  },
  {
   "cell_type": "code",
   "execution_count": 47,
   "id": "28286a6e",
   "metadata": {},
   "outputs": [],
   "source": [
    "# libraries needed\n",
    "import numpy as np\n",
    "import matplotlib.pyplot as plt\n",
    "import math\n",
    "import scipy.io\n",
    "import tensorflow as tf\n",
    "from tensorflow import keras"
   ]
  },
  {
   "cell_type": "code",
   "execution_count": null,
   "id": "15160e19",
   "metadata": {},
   "outputs": [],
   "source": [
    "# Q.1"
   ]
  },
  {
   "cell_type": "code",
   "execution_count": 48,
   "id": "3087984f",
   "metadata": {},
   "outputs": [
    {
     "data": {
      "image/png": "[encoded data removed]",
      "text/plain": [
       "<Figure size 360x360 with 1 Axes>"
      ]
     },
     "metadata": {
      "needs_background": "light"
     },
     "output_type": "display_data"
    }
   ],
   "source": [
    "# Part.1.1 ------ Plot Data\n",
    "data = np.array(scipy.io.loadmat('SampleData1.mat')['TrainingData']).T\n",
    "labels = np.array(scipy.io.loadmat('SampleData1.mat')['TrainingLabels']).T\n",
    "\n",
    "# cluster1\n",
    "data1 = data[np.where(labels == 0)[0],:]\n",
    "\n",
    "# cluster2 \n",
    "data2 = data[np.where(labels == 1)[0],:]\n",
    "\n",
    "\n",
    "fig, ax = plt.subplots(1,1,figsize=(5,5))\n",
    "ax.scatter(data1[:,0],data1[:,1])\n",
    "ax.scatter(data2[:,0],data2[:,1])\n",
    "ax.set_xlabel('$x_1$')\n",
    "ax.set_ylabel('$x_2$')\n",
    "ax.set_title('Sample Data 1')\n",
    "ax.grid(True)\n",
    "ax.legend(['Cluster 1','Cluster 2']);\n",
    "plt.savefig('1.1.png')"
   ]
  },
  {
   "cell_type": "code",
   "execution_count": 49,
   "id": "d003e081",
   "metadata": {},
   "outputs": [
    {
     "name": "stdout",
     "output_type": "stream",
     "text": [
      "(400, 2) (400, 1)\n",
      "(280, 2) (120, 2) (280, 1) (120, 1)\n"
     ]
    }
   ],
   "source": [
    "# Part.1.2 ------ Train-Validation Split\n",
    "from sklearn.model_selection import train_test_split\n",
    "\n",
    "\n",
    "print(data.shape,labels.shape)\n",
    "\n",
    "# select 20% of train data as validation data\n",
    "data_tr, data_val, labels_tr, labels_val = train_test_split(data, labels, test_size = 0.3, random_state = 0)\n",
    "print(data_tr.shape, data_val.shape, labels_tr.shape, labels_val.shape)"
   ]
  },
  {
   "cell_type": "code",
   "execution_count": 50,
   "id": "98ade9e3",
   "metadata": {},
   "outputs": [
    {
     "name": "stdout",
     "output_type": "stream",
     "text": [
      "(2,)\n"
     ]
    }
   ],
   "source": [
    "# Part.1.3 ------ MLP on data\n",
    "# Normalize Data\n",
    "from sklearn.preprocessing import StandardScaler\n",
    "\n",
    "scaler = StandardScaler()\n",
    "scaler.fit(data_tr)\n",
    "print(scaler.mean_.shape)\n",
    "data_tr_norm = scaler.transform(data_tr)\n",
    "data_val_norm = scaler.transform(data_val)"
   ]
  },
  {
   "cell_type": "code",
   "execution_count": 66,
   "id": "3f54875a",
   "metadata": {},
   "outputs": [
    {
     "name": "stdout",
     "output_type": "stream",
     "text": [
      "Model: \"sequential_10\"\n",
      "_________________________________________________________________\n",
      " Layer (type)                Output Shape              Param #   \n",
      "=================================================================\n",
      " dense_15 (Dense)            (None, 3)                 9         \n",
      "                                                                 \n",
      " activation_10 (Activation)  (None, 3)                 0         \n",
      "                                                                 \n",
      " dense_16 (Dense)            (None, 1)                 4         \n",
      "                                                                 \n",
      " activation_11 (Activation)  (None, 1)                 0         \n",
      "                                                                 \n",
      "=================================================================\n",
      "Total params: 13\n",
      "Trainable params: 13\n",
      "Non-trainable params: 0\n",
      "_________________________________________________________________\n"
     ]
    }
   ],
   "source": [
    "# Part.1.3 ------ MLP on data\n",
    "# CREATE MLP MODEL\n",
    "# Setting up the layers\n",
    "\n",
    "from tensorflow.keras.layers import Input, Dense, Activation\n",
    "\n",
    "model = keras.Sequential([\n",
    "                      Input(shape = (2,)), # input layer\n",
    "                      Dense(units = 3), # hidden layer one\n",
    "                      Activation(activation = tf.math.sigmoid), # fact = sigmoid\n",
    "                      Dense(units = 1), # output layer\n",
    "                      Activation(activation = tf.math.sigmoid), # fact = sigmoid\n",
    "])\n",
    "\n",
    "model.summary()"
   ]
  },
  {
   "cell_type": "code",
   "execution_count": 67,
   "id": "9b76991a",
   "metadata": {},
   "outputs": [],
   "source": [
    "# Part.1.3 ------ MLP on data\n",
    "# Compling the model\n",
    "\n",
    "# make our model ready for training\n",
    "# 1. optimizer 2. loss function 3. metrics\n",
    "\n",
    "model.compile(\n",
    "    optimizer = keras.optimizers.SGD(learning_rate = 0.01),\n",
    "    loss = keras.losses.MeanSquaredError(),\n",
    "    metrics = ['accuracy']\n",
    ")"
   ]
  },
  {
   "cell_type": "code",
   "execution_count": 68,
   "id": "8abb58f6",
   "metadata": {
    "scrolled": true
   },
   "outputs": [
    {
     "name": "stdout",
     "output_type": "stream",
     "text": [
      "Epoch 1/50\n",
      "280/280 [==============================] - 0s 918us/step - loss: 0.2929 - accuracy: 0.3821 - val_loss: 0.2764 - val_accuracy: 0.3000\n",
      "Epoch 2/50\n",
      "280/280 [==============================] - 0s 707us/step - loss: 0.2738 - accuracy: 0.3071 - val_loss: 0.2629 - val_accuracy: 0.4750\n",
      "Epoch 3/50\n",
      "280/280 [==============================] - 0s 690us/step - loss: 0.2622 - accuracy: 0.3679 - val_loss: 0.2536 - val_accuracy: 0.5000\n",
      "Epoch 4/50\n",
      "280/280 [==============================] - 0s 690us/step - loss: 0.2540 - accuracy: 0.4893 - val_loss: 0.2460 - val_accuracy: 0.5417\n",
      "Epoch 5/50\n",
      "280/280 [==============================] - 0s 715us/step - loss: 0.2471 - accuracy: 0.5500 - val_loss: 0.2389 - val_accuracy: 0.5750\n",
      "Epoch 6/50\n",
      "280/280 [==============================] - 0s 693us/step - loss: 0.2409 - accuracy: 0.5643 - val_loss: 0.2321 - val_accuracy: 0.5917\n",
      "Epoch 7/50\n",
      "280/280 [==============================] - 0s 693us/step - loss: 0.2346 - accuracy: 0.6071 - val_loss: 0.2252 - val_accuracy: 0.6583\n",
      "Epoch 8/50\n",
      "280/280 [==============================] - 0s 711us/step - loss: 0.2284 - accuracy: 0.6714 - val_loss: 0.2183 - val_accuracy: 0.7417\n",
      "Epoch 9/50\n",
      "280/280 [==============================] - 0s 720us/step - loss: 0.2220 - accuracy: 0.6964 - val_loss: 0.2112 - val_accuracy: 0.8000\n",
      "Epoch 10/50\n",
      "280/280 [==============================] - 0s 686us/step - loss: 0.2154 - accuracy: 0.7321 - val_loss: 0.2039 - val_accuracy: 0.8333\n",
      "Epoch 11/50\n",
      "280/280 [==============================] - 0s 690us/step - loss: 0.2085 - accuracy: 0.7500 - val_loss: 0.1963 - val_accuracy: 0.8417\n",
      "Epoch 12/50\n",
      "280/280 [==============================] - 0s 679us/step - loss: 0.2013 - accuracy: 0.7750 - val_loss: 0.1886 - val_accuracy: 0.8417\n",
      "Epoch 13/50\n",
      "280/280 [==============================] - 0s 668us/step - loss: 0.1938 - accuracy: 0.7821 - val_loss: 0.1807 - val_accuracy: 0.8500\n",
      "Epoch 14/50\n",
      "280/280 [==============================] - 0s 711us/step - loss: 0.1861 - accuracy: 0.8000 - val_loss: 0.1728 - val_accuracy: 0.8833\n",
      "Epoch 15/50\n",
      "280/280 [==============================] - 0s 669us/step - loss: 0.1782 - accuracy: 0.8143 - val_loss: 0.1648 - val_accuracy: 0.8917\n",
      "Epoch 16/50\n",
      "280/280 [==============================] - 0s 678us/step - loss: 0.1702 - accuracy: 0.8286 - val_loss: 0.1569 - val_accuracy: 0.9167\n",
      "Epoch 17/50\n",
      "280/280 [==============================] - 0s 672us/step - loss: 0.1622 - accuracy: 0.8464 - val_loss: 0.1492 - val_accuracy: 0.9333\n",
      "Epoch 18/50\n",
      "280/280 [==============================] - 0s 677us/step - loss: 0.1544 - accuracy: 0.8679 - val_loss: 0.1418 - val_accuracy: 0.9250\n",
      "Epoch 19/50\n",
      "280/280 [==============================] - 0s 682us/step - loss: 0.1468 - accuracy: 0.8786 - val_loss: 0.1348 - val_accuracy: 0.9250\n",
      "Epoch 20/50\n",
      "280/280 [==============================] - 0s 683us/step - loss: 0.1395 - accuracy: 0.8964 - val_loss: 0.1281 - val_accuracy: 0.9250\n",
      "Epoch 21/50\n",
      "280/280 [==============================] - 0s 676us/step - loss: 0.1327 - accuracy: 0.9000 - val_loss: 0.1219 - val_accuracy: 0.9250\n",
      "Epoch 22/50\n",
      "280/280 [==============================] - 0s 684us/step - loss: 0.1262 - accuracy: 0.9071 - val_loss: 0.1162 - val_accuracy: 0.9250\n",
      "Epoch 23/50\n",
      "280/280 [==============================] - 0s 676us/step - loss: 0.1202 - accuracy: 0.9143 - val_loss: 0.1109 - val_accuracy: 0.9250\n",
      "Epoch 24/50\n",
      "280/280 [==============================] - 0s 684us/step - loss: 0.1147 - accuracy: 0.9107 - val_loss: 0.1061 - val_accuracy: 0.9333\n",
      "Epoch 25/50\n",
      "280/280 [==============================] - 0s 671us/step - loss: 0.1096 - accuracy: 0.9179 - val_loss: 0.1018 - val_accuracy: 0.9333\n",
      "Epoch 26/50\n",
      "280/280 [==============================] - 0s 668us/step - loss: 0.1051 - accuracy: 0.9286 - val_loss: 0.0979 - val_accuracy: 0.9250\n",
      "Epoch 27/50\n",
      "280/280 [==============================] - 0s 680us/step - loss: 0.1009 - accuracy: 0.9286 - val_loss: 0.0944 - val_accuracy: 0.9250\n",
      "Epoch 28/50\n",
      "280/280 [==============================] - 0s 697us/step - loss: 0.0971 - accuracy: 0.9286 - val_loss: 0.0912 - val_accuracy: 0.9167\n",
      "Epoch 29/50\n",
      "280/280 [==============================] - 0s 672us/step - loss: 0.0937 - accuracy: 0.9250 - val_loss: 0.0884 - val_accuracy: 0.9167\n",
      "Epoch 30/50\n",
      "280/280 [==============================] - 0s 668us/step - loss: 0.0907 - accuracy: 0.9214 - val_loss: 0.0858 - val_accuracy: 0.9167\n",
      "Epoch 31/50\n",
      "280/280 [==============================] - 0s 679us/step - loss: 0.0879 - accuracy: 0.9179 - val_loss: 0.0834 - val_accuracy: 0.9167\n",
      "Epoch 32/50\n",
      "280/280 [==============================] - 0s 676us/step - loss: 0.0854 - accuracy: 0.9214 - val_loss: 0.0813 - val_accuracy: 0.9167\n",
      "Epoch 33/50\n",
      "280/280 [==============================] - 0s 682us/step - loss: 0.0832 - accuracy: 0.9179 - val_loss: 0.0793 - val_accuracy: 0.9167\n",
      "Epoch 34/50\n",
      "280/280 [==============================] - 0s 678us/step - loss: 0.0811 - accuracy: 0.9250 - val_loss: 0.0776 - val_accuracy: 0.9167\n",
      "Epoch 35/50\n",
      "280/280 [==============================] - 0s 675us/step - loss: 0.0793 - accuracy: 0.9250 - val_loss: 0.0760 - val_accuracy: 0.9167\n",
      "Epoch 36/50\n",
      "280/280 [==============================] - 0s 690us/step - loss: 0.0776 - accuracy: 0.9214 - val_loss: 0.0745 - val_accuracy: 0.9167\n",
      "Epoch 37/50\n",
      "280/280 [==============================] - 0s 679us/step - loss: 0.0761 - accuracy: 0.9250 - val_loss: 0.0732 - val_accuracy: 0.9167\n",
      "Epoch 38/50\n",
      "280/280 [==============================] - 0s 676us/step - loss: 0.0746 - accuracy: 0.9214 - val_loss: 0.0719 - val_accuracy: 0.9167\n",
      "Epoch 39/50\n",
      "280/280 [==============================] - 0s 668us/step - loss: 0.0734 - accuracy: 0.9250 - val_loss: 0.0708 - val_accuracy: 0.9167\n",
      "Epoch 40/50\n",
      "280/280 [==============================] - 0s 672us/step - loss: 0.0722 - accuracy: 0.9250 - val_loss: 0.0698 - val_accuracy: 0.9167\n",
      "Epoch 41/50\n",
      "280/280 [==============================] - 0s 675us/step - loss: 0.0711 - accuracy: 0.9250 - val_loss: 0.0689 - val_accuracy: 0.9167\n",
      "Epoch 42/50\n",
      "280/280 [==============================] - 0s 675us/step - loss: 0.0701 - accuracy: 0.9250 - val_loss: 0.0680 - val_accuracy: 0.9167\n",
      "Epoch 43/50\n",
      "280/280 [==============================] - 0s 672us/step - loss: 0.0692 - accuracy: 0.9250 - val_loss: 0.0671 - val_accuracy: 0.9167\n",
      "Epoch 44/50\n",
      "280/280 [==============================] - 0s 666us/step - loss: 0.0683 - accuracy: 0.9214 - val_loss: 0.0663 - val_accuracy: 0.9167\n",
      "Epoch 45/50\n",
      "280/280 [==============================] - 0s 677us/step - loss: 0.0676 - accuracy: 0.9250 - val_loss: 0.0656 - val_accuracy: 0.9167\n",
      "Epoch 46/50\n",
      "280/280 [==============================] - 0s 668us/step - loss: 0.0668 - accuracy: 0.9250 - val_loss: 0.0650 - val_accuracy: 0.9167\n",
      "Epoch 47/50\n",
      "280/280 [==============================] - 0s 668us/step - loss: 0.0661 - accuracy: 0.9214 - val_loss: 0.0643 - val_accuracy: 0.9167\n",
      "Epoch 48/50\n",
      "280/280 [==============================] - 0s 676us/step - loss: 0.0655 - accuracy: 0.9250 - val_loss: 0.0638 - val_accuracy: 0.9167\n",
      "Epoch 49/50\n",
      "280/280 [==============================] - 0s 672us/step - loss: 0.0649 - accuracy: 0.9250 - val_loss: 0.0632 - val_accuracy: 0.9167\n",
      "Epoch 50/50\n",
      "280/280 [==============================] - 0s 676us/step - loss: 0.0644 - accuracy: 0.9250 - val_loss: 0.0627 - val_accuracy: 0.9167\n"
     ]
    }
   ],
   "source": [
    "# Part.1.3 ------ MLP on data\n",
    "\n",
    "from tensorflow.keras.callbacks import EarlyStopping\n",
    "\n",
    "er_stop = EarlyStopping(monitor = 'val_loss', patience = 5, restore_best_weights = True)\n",
    "\n",
    "# Training the model\n",
    "# using .fit in keras\n",
    "# inputs of .fit : 1. Train/Val Data 2. Batch Size(go over samples window size)\n",
    "# 3. Number of Epochs(number of repeatation on all samples) 4. Callbacks\n",
    "\n",
    "\n",
    "hist = model.fit(\n",
    "    data_tr_norm,\n",
    "    labels_tr,\n",
    "    batch_size = 1,\n",
    "    epochs = 50,\n",
    "    validation_data = (data_val_norm, labels_val),\n",
    "    callbacks = [er_stop]\n",
    ")\n"
   ]
  },
  {
   "cell_type": "code",
   "execution_count": 69,
   "id": "604916c8",
   "metadata": {},
   "outputs": [
    {
     "name": "stdout",
     "output_type": "stream",
     "text": [
      "<class 'keras.callbacks.History'>\n",
      "dict_keys(['loss', 'accuracy', 'val_loss', 'val_accuracy'])\n",
      "50\n"
     ]
    },
    {
     "data": {
      "image/png": "[encoded data removed]",
      "text/plain": [
       "<Figure size 432x288 with 1 Axes>"
      ]
     },
     "metadata": {
      "needs_background": "light"
     },
     "output_type": "display_data"
    }
   ],
   "source": [
    "# Part.1.3 ------ MLP on data\n",
    "# Loss & Accuracy Plots\n",
    "\n",
    "print(type(hist))\n",
    "print(hist.history.keys())\n",
    "\n",
    "# number of epochs\n",
    "n_epochs = len(hist.history['accuracy'])\n",
    "print(n_epochs)\n",
    "\n",
    "epochs = np.arange(1, n_epochs+1)\n",
    "\n",
    "fig, ax = plt.subplots()\n",
    "ax.plot(epochs, hist.history['accuracy'])\n",
    "ax.plot(epochs, hist.history['val_accuracy'])\n",
    "ax.grid(True)\n",
    "ax.set_xlabel('Epoch Num')\n",
    "ax.set_ylabel('Accuracy')\n",
    "ax.legend(['Training','Validation']);\n",
    "plt.savefig('1.2.png')"
   ]
  },
  {
   "cell_type": "code",
   "execution_count": 70,
   "id": "c819bce2",
   "metadata": {
    "scrolled": true
   },
   "outputs": [
    {
     "name": "stdout",
     "output_type": "stream",
     "text": [
      "Epoch 1/50\n",
      "280/280 [==============================] - 0s 497us/step - loss: 0.5660\n",
      "Epoch 2/50\n",
      "280/280 [==============================] - 0s 475us/step - loss: 0.3544\n",
      "Epoch 3/50\n",
      "280/280 [==============================] - 0s 474us/step - loss: 0.2358\n",
      "Epoch 4/50\n",
      "280/280 [==============================] - 0s 478us/step - loss: 0.1608\n",
      "Epoch 5/50\n",
      "280/280 [==============================] - 0s 476us/step - loss: 0.1152\n",
      "Epoch 6/50\n",
      "280/280 [==============================] - 0s 500us/step - loss: 0.0902\n",
      "Epoch 7/50\n",
      "280/280 [==============================] - 0s 494us/step - loss: 0.0751\n",
      "Epoch 8/50\n",
      "280/280 [==============================] - 0s 515us/step - loss: 0.0659\n",
      "Epoch 9/50\n",
      "280/280 [==============================] - 0s 479us/step - loss: 0.0615\n",
      "Epoch 10/50\n",
      "280/280 [==============================] - 0s 468us/step - loss: 0.0577\n",
      "Epoch 11/50\n",
      "280/280 [==============================] - 0s 475us/step - loss: 0.0550\n",
      "Epoch 12/50\n",
      "280/280 [==============================] - 0s 468us/step - loss: 0.0530\n",
      "Epoch 13/50\n",
      "280/280 [==============================] - 0s 498us/step - loss: 0.0512\n",
      "Epoch 14/50\n",
      "280/280 [==============================] - 0s 511us/step - loss: 0.0492\n",
      "Epoch 15/50\n",
      "280/280 [==============================] - 0s 481us/step - loss: 0.0475\n",
      "Epoch 16/50\n",
      "280/280 [==============================] - 0s 475us/step - loss: 0.0468\n",
      "Epoch 17/50\n",
      "280/280 [==============================] - 0s 470us/step - loss: 0.0452\n",
      "Epoch 18/50\n",
      "280/280 [==============================] - 0s 493us/step - loss: 0.0436\n",
      "Epoch 19/50\n",
      "280/280 [==============================] - 0s 479us/step - loss: 0.0432\n",
      "Epoch 20/50\n",
      "280/280 [==============================] - 0s 479us/step - loss: 0.0421\n",
      "Epoch 21/50\n",
      "280/280 [==============================] - 0s 480us/step - loss: 0.0411\n",
      "Epoch 22/50\n",
      "280/280 [==============================] - 0s 493us/step - loss: 0.0407\n",
      "Epoch 23/50\n",
      "280/280 [==============================] - 0s 475us/step - loss: 0.0401\n",
      "Epoch 24/50\n",
      "280/280 [==============================] - 0s 479us/step - loss: 0.0391\n",
      "Epoch 25/50\n",
      "280/280 [==============================] - 0s 494us/step - loss: 0.0389\n",
      "Epoch 26/50\n",
      "280/280 [==============================] - 0s 479us/step - loss: 0.0385\n",
      "Epoch 27/50\n",
      "280/280 [==============================] - 0s 504us/step - loss: 0.0375\n",
      "Epoch 28/50\n",
      "280/280 [==============================] - 0s 504us/step - loss: 0.0374\n",
      "Epoch 29/50\n",
      "280/280 [==============================] - 0s 515us/step - loss: 0.0371\n",
      "Epoch 30/50\n",
      "280/280 [==============================] - 0s 508us/step - loss: 0.0362\n",
      "Epoch 31/50\n",
      "280/280 [==============================] - 0s 536us/step - loss: 0.0364\n",
      "Epoch 32/50\n",
      "280/280 [==============================] - 0s 541us/step - loss: 0.0361\n",
      "Epoch 33/50\n",
      "280/280 [==============================] - 0s 551us/step - loss: 0.0356\n",
      "Epoch 34/50\n",
      "280/280 [==============================] - 0s 525us/step - loss: 0.0354\n",
      "Epoch 35/50\n",
      "280/280 [==============================] - 0s 493us/step - loss: 0.0348\n",
      "Epoch 36/50\n",
      "280/280 [==============================] - 0s 508us/step - loss: 0.0349\n",
      "Epoch 37/50\n",
      "280/280 [==============================] - 0s 486us/step - loss: 0.0345\n",
      "Epoch 38/50\n",
      "280/280 [==============================] - 0s 500us/step - loss: 0.0341\n",
      "Epoch 39/50\n",
      "280/280 [==============================] - 0s 476us/step - loss: 0.0340\n",
      "Epoch 40/50\n",
      "280/280 [==============================] - 0s 521us/step - loss: 0.0334\n",
      "Epoch 41/50\n",
      "280/280 [==============================] - 0s 522us/step - loss: 0.0334\n",
      "Epoch 42/50\n",
      "280/280 [==============================] - 0s 525us/step - loss: 0.0333\n",
      "Epoch 43/50\n",
      "280/280 [==============================] - 0s 553us/step - loss: 0.0330\n",
      "Epoch 44/50\n",
      "280/280 [==============================] - 0s 542us/step - loss: 0.0329\n",
      "Epoch 45/50\n",
      "280/280 [==============================] - 0s 521us/step - loss: 0.0328\n",
      "Epoch 46/50\n",
      "280/280 [==============================] - 0s 486us/step - loss: 0.0321\n",
      "Epoch 47/50\n",
      "280/280 [==============================] - 0s 533us/step - loss: 0.0322\n",
      "Epoch 48/50\n",
      "280/280 [==============================] - 0s 504us/step - loss: 0.0322\n",
      "Epoch 49/50\n",
      "280/280 [==============================] - 0s 479us/step - loss: 0.0316\n",
      "Epoch 50/50\n",
      "280/280 [==============================] - 0s 515us/step - loss: 0.0317\n"
     ]
    },
    {
     "data": {
      "text/plain": [
       "<keras.callbacks.History at 0x26c1b2c9550>"
      ]
     },
     "execution_count": 70,
     "metadata": {},
     "output_type": "execute_result"
    }
   ],
   "source": [
    "# Part.1.4 ------ RBF on data\n",
    "import keras.optimizers\n",
    "from keras.models import Sequential\n",
    "from keras.layers.core import Dense\n",
    "from tensorflow.keras.optimizers import RMSprop\n",
    "from rbflayer import RBFLayer, InitCentersRandom\n",
    "from kmeans_initializer import InitCentersKMeans\n",
    "\n",
    "model = Sequential()\n",
    "rbfLayer = RBFLayer(8,\n",
    "                   initializer = InitCentersKMeans(data_tr_norm),\n",
    "                   betas = 1,\n",
    "                   input_shape = (2,))\n",
    "\n",
    "model.add(rbfLayer)\n",
    "model.add(Dense(1))\n",
    "\n",
    "model.compile(loss = 'mean_squared_error',\n",
    "              optimizer = RMSprop())\n",
    "\n",
    "model.fit(\n",
    "    data_tr_norm,\n",
    "    labels_tr,\n",
    "    batch_size = 1,\n",
    "    epochs = 50,\n",
    "    verbose=1)\n",
    "\n"
   ]
  },
  {
   "cell_type": "code",
   "execution_count": 71,
   "id": "7806a618",
   "metadata": {
    "scrolled": true
   },
   "outputs": [
    {
     "data": {
      "image/png": "[encoded data removed]",
      "text/plain": [
       "<Figure size 432x288 with 1 Axes>"
      ]
     },
     "metadata": {
      "needs_background": "light"
     },
     "output_type": "display_data"
    }
   ],
   "source": [
    "# test on validation data\n",
    "y_pred = model.predict(data_val_norm)\n",
    "fig, ax = plt.subplots()\n",
    "clusterZeroIndices = np.where(y_pred < 0.5)[0]\n",
    "clusterOneIndices = np.where(y_pred >= 0.5)[0]\n",
    "\n",
    "\n",
    "# cluster zero val data\n",
    "ax.scatter(data_val[clusterZeroIndices,0], data_val[clusterZeroIndices,1])\n",
    "\n",
    "# cluster one val data\n",
    "ax.scatter(data_val[clusterOneIndices,0], data_val[clusterOneIndices,1])\n",
    "\n",
    "ax.set_xlabel('$x_1$')\n",
    "ax.set_ylabel('$x_2$')\n",
    "ax.set_title('Validation Data Clustering Using RBF')\n",
    "ax.grid(True)\n",
    "ax.legend(['Cluster 1','Cluster 2']);\n",
    "plt.savefig('1.3.png')"
   ]
  },
  {
   "cell_type": "code",
   "execution_count": 73,
   "id": "a26a217a",
   "metadata": {},
   "outputs": [
    {
     "name": "stdout",
     "output_type": "stream",
     "text": [
      "98.33333333333333\n"
     ]
    }
   ],
   "source": [
    "# accuracy on validation data\n",
    "y_pred = model.predict(data_val_norm)\n",
    "\n",
    "y_pred[np.where(y_pred < 0.5)[0]] = 0\n",
    "y_pred[np.where(y_pred >= 0.5)[0]] = 1\n",
    "\n",
    "val_accuracy = np.count_nonzero((labels_val - y_pred) == 0)/ y_pred.shape[0] * 100\n",
    "print(val_accuracy)"
   ]
  }
 ],
 "metadata": {
  "kernelspec": {
   "display_name": "Python 3",
   "language": "python",
   "name": "python3"
  },
  "language_info": {
   "codemirror_mode": {
    "name": "ipython",
    "version": 3
   },
   "file_extension": ".py",
   "mimetype": "text/x-python",
   "name": "python",
   "nbconvert_exporter": "python",
   "pygments_lexer": "ipython3",
   "version": "3.8.8"
  }
 },
 "nbformat": 4,
 "nbformat_minor": 5
}
